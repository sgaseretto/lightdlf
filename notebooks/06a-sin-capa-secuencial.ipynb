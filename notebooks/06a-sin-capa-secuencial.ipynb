{
 "cells": [
  {
   "cell_type": "code",
   "execution_count": 1,
   "metadata": {},
   "outputs": [],
   "source": [
    "import os\n",
    "import sys\n",
    "module_path = os.path.abspath(os.path.join('..'))\n",
    "if module_path not in sys.path:\n",
    "    sys.path.append(module_path)"
   ]
  },
  {
   "cell_type": "code",
   "execution_count": 2,
   "metadata": {},
   "outputs": [],
   "source": [
    "from lightdlf_old.cpu.core import Tensor\n",
    "from lightdlf_old.cpu.layers import Linear, Sequential\n",
    "from lightdlf_old.cpu.optimizers import SGD"
   ]
  },
  {
   "cell_type": "code",
   "execution_count": 3,
   "metadata": {},
   "outputs": [
    {
     "name": "stdout",
     "output_type": "stream",
     "text": [
      "[2.95160758]\n",
      "[0.31551327]\n",
      "[0.26353685]\n",
      "[0.25414544]\n",
      "[0.25227973]\n",
      "[0.25162991]\n",
      "[0.25124923]\n",
      "[0.2509711]\n",
      "[0.25075675]\n",
      "[0.25058976]\n"
     ]
    }
   ],
   "source": [
    "import numpy as np\n",
    "np.random.seed(0)\n",
    "\n",
    "data = Tensor([[0,0],[0,1],[1,0],[1,1]], autograd=True)\n",
    "target = Tensor([[0],[1],[1],[1]], autograd=True)\n",
    "\n",
    "model = list()\n",
    "model.append(Linear(2,3))\n",
    "model.append(Linear(3,1))\n",
    "\n",
    "params = list()\n",
    "for l in model:\n",
    "    params += l.get_parameters()\n",
    "    \n",
    "optim = SGD(parameters=params, alpha=0.05)\n",
    "\n",
    "for i in range(10):\n",
    "    pred = data\n",
    "    for layer in model:\n",
    "        pred = layer.forward(input=pred)\n",
    "        \n",
    "    loss = ((pred - target) * (pred - target)).sum(0)\n",
    "    \n",
    "    loss.backward(grad=Tensor(np.ones_like(loss.data)))\n",
    "    optim.step()\n",
    "    print(loss)"
   ]
  }
 ],
 "metadata": {
  "kernelspec": {
   "display_name": "Python 3",
   "language": "python",
   "name": "python3"
  },
  "language_info": {
   "codemirror_mode": {
    "name": "ipython",
    "version": 3
   },
   "file_extension": ".py",
   "mimetype": "text/x-python",
   "name": "python",
   "nbconvert_exporter": "python",
   "pygments_lexer": "ipython3",
   "version": "3.7.3"
  }
 },
 "nbformat": 4,
 "nbformat_minor": 2
}
