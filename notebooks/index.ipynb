{
 "cells": [
  {
   "cell_type": "markdown",
   "metadata": {},
   "source": [
    "# LightDLF\n",
    "> Implementacion de un framework de deep learning para entender como funcionan.\n",
    "\n",
    "Para más detalles ver la [documentacion](https://sgaseretto.github.io/lightdlf/)"
   ]
  },
  {
   "cell_type": "markdown",
   "metadata": {},
   "source": [
    "## Instalación\n",
    "```pip install lightdlf```"
   ]
  },
  {
   "cell_type": "markdown",
   "metadata": {},
   "source": [
    "## Requerimientos\n",
    "- numpy\n",
    "- scikit-learn\n",
    "- pandas\n",
    "- phe"
   ]
  }
 ],
 "metadata": {
  "kernelspec": {
   "display_name": "Python 3",
   "language": "python",
   "name": "python3"
  }
 },
 "nbformat": 4,
 "nbformat_minor": 2
}
