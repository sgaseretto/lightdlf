{
 "cells": [
  {
   "cell_type": "markdown",
   "metadata": {},
   "source": [
    "# Introduccion a Tensores\n",
    "Así como las matrices son listas de vectores y los vectores son listas de escalares (numeros), un tensor es una version más genérica de estas listas numéricas. podemos decir que:\n",
    "- Escalar -> Tensor de 0 dimensiones\n",
    "- Vector -> Tensor de 1 dimensión\n",
    "- Matriz -> Tensor de 2 dimensiones\n",
    "\n",
    "Si agregamos n dimensiones entonces tenemos un tensor ```enedimensional```\n",
    "\n",
    "Los fameworks de deep learning se basan en la manipulación de vectores, por tanto es necesario definir este tipo de dato"
   ]
  },
  {
   "cell_type": "code",
   "execution_count": 1,
   "metadata": {},
   "outputs": [],
   "source": [
    "import numpy as np\n",
    "\n",
    "class Tensor(object):\n",
    "    \n",
    "    def __init__(self, data):\n",
    "        '''\n",
    "        Inicializa un tensor utilizando numpy\n",
    "        \n",
    "        @data: una lista de numeros\n",
    "        '''\n",
    "        self.data = np.array(data)\n",
    "        \n",
    "    def __add__(self, other):\n",
    "        '''\n",
    "        @other: un Tensor\n",
    "        '''\n",
    "        return Tensor(self.data + other.data)\n",
    "    \n",
    "    def __repr__(self):\n",
    "        return str(self.data.__repr__())\n",
    "    \n",
    "    def __str__(self):\n",
    "        return str(self.data.__str__())"
   ]
  },
  {
   "cell_type": "markdown",
   "metadata": {},
   "source": [
    "La nueva clase Tensor es capaz de soportar operaciones como suma de tensores"
   ]
  },
  {
   "cell_type": "code",
   "execution_count": 2,
   "metadata": {},
   "outputs": [
    {
     "name": "stdout",
     "output_type": "stream",
     "text": [
      "[1 2 3 4]\n",
      "[5 5 5 5]\n"
     ]
    }
   ],
   "source": [
    "x = Tensor([1,2,3,4])\n",
    "y = Tensor([4,3,2,1])\n",
    "z = x + y\n",
    "print(x)\n",
    "print(z)"
   ]
  },
  {
   "cell_type": "markdown",
   "metadata": {},
   "source": [
    "En el siguiente [notebook](02-intro-autograd.ipynb) se empezará a añadir la capacidad de calcular gradientes de forma automática"
   ]
  },
  {
   "cell_type": "code",
   "execution_count": null,
   "metadata": {},
   "outputs": [],
   "source": []
  }
 ],
 "metadata": {
  "kernelspec": {
   "display_name": "Python 3",
   "language": "python",
   "name": "python3"
  },
  "language_info": {
   "codemirror_mode": {
    "name": "ipython",
    "version": 3
   },
   "file_extension": ".py",
   "mimetype": "text/x-python",
   "name": "python",
   "nbconvert_exporter": "python",
   "pygments_lexer": "ipython3",
   "version": "3.7.3"
  }
 },
 "nbformat": 4,
 "nbformat_minor": 2
}
