{
 "cells": [
  {
   "cell_type": "markdown",
   "metadata": {},
   "source": [
    "# Prueba de Lightdlf\n",
    "> Desde Tensores hasta transformaciones no lineales, descenso de gradiente y funcion de perdida"
   ]
  },
  {
   "cell_type": "code",
   "execution_count": null,
   "metadata": {},
   "outputs": [],
   "source": [
    "import os\n",
    "import sys\n",
    "module_path = os.path.abspath(os.path.join('..'))\n",
    "if module_path not in sys.path:\n",
    "    sys.path.append(module_path)"
   ]
  },
  {
   "cell_type": "code",
   "execution_count": null,
   "metadata": {},
   "outputs": [
    {
     "name": "stdout",
     "output_type": "stream",
     "text": [
      "[1.06372865]\n",
      "[0.75148144]\n",
      "[0.57384259]\n",
      "[0.39574294]\n",
      "[0.2482279]\n",
      "[0.15515294]\n",
      "[0.10423398]\n",
      "[0.07571169]\n",
      "[0.05837623]\n",
      "[0.04700013]\n"
     ]
    }
   ],
   "source": [
    "from lightdlf_old.cpu.core import Tensor\n",
    "from lightdlf_old.cpu.layers import Linear, Tanh, Sigmoid, Relu, Sequential, MSELoss\n",
    "from lightdlf_old.cpu.optimizers import SGD\n",
    "import numpy as np\n",
    "np.random.seed(0)\n",
    "\n",
    "data = Tensor(np.array([[0,0],[0,1],[1,0],[1,1]]), autograd=True)   # (4,2)\n",
    "target = Tensor(np.array([[0],[1],[0],[1]]), autograd=True)         # (4,1)\n",
    "\n",
    "model = Sequential([Linear(2,3), \n",
    "                    Tanh(), \n",
    "                    Linear(3,1),\n",
    "                    Sigmoid()])\n",
    "criterion = MSELoss()\n",
    "# optim = SGD(model.get_parameters(), alpha=0.05) # Lineal\n",
    "optim = SGD(model.get_parameters(), alpha=1) # Tanh, Sigmoid\n",
    "\n",
    "for i in range(10):\n",
    "    # Predecir\n",
    "    pred = model.forward(data)\n",
    "    \n",
    "    # Comparar\n",
    "    loss = criterion.forward(pred, target)\n",
    "    \n",
    "    # Aprender\n",
    "    loss.backward(Tensor(np.ones_like(loss.data)))\n",
    "    optim.step()\n",
    "    \n",
    "    print(loss)"
   ]
  }
 ],
 "metadata": {
  "kernelspec": {
   "display_name": "Python 3",
   "language": "python",
   "name": "python3"
  }
 },
 "nbformat": 4,
 "nbformat_minor": 2
}
